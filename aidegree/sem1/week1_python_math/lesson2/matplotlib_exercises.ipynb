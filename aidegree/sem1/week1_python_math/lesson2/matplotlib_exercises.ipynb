{
 "cells": [
  {
   "cell_type": "markdown",
   "id": "29e16f45",
   "metadata": {},
   "source": [
    "# Lesson 2 • Matplotlib Exercises\n",
    "\n",
    "Goal: Make clean plots that explain data & model behavior.\n",
    "\n",
    "Tip: Always label axes and add titles; use legends where helpful.\n",
    "\n"
   ]
  },
  {
   "cell_type": "code",
   "execution_count": null,
   "id": "d2a20248",
   "metadata": {},
   "outputs": [],
   "source": [
    "import numpy as np\n",
    "import matplotlib.pyplot as plt\n",
    "np.random.seed(42)\n",
    "%matplotlib inline\n"
   ]
  },
  {
   "cell_type": "markdown",
   "id": "ce5be5fb",
   "metadata": {},
   "source": [
    "## 1) Line & Scatter Plots"
   ]
  },
  {
   "cell_type": "code",
   "execution_count": null,
   "id": "87ce2929",
   "metadata": {},
   "outputs": [],
   "source": [
    "# 1.1 Plot y = 2x + 1 for x in [0, 10] (line plot) with proper labels\n",
    "# TODO\n",
    "x = np.linspace(0, 10, 100)\n",
    "y = ...\n",
    "plt.figure()\n",
    "plt.plot(x, y)\n",
    "plt.title('y = 2x + 1')\n",
    "plt.xlabel('x')\n",
    "plt.ylabel('y')\n",
    "plt.show()\n"
   ]
  },
  {
   "cell_type": "code",
   "execution_count": null,
   "id": "27b1383e",
   "metadata": {},
   "outputs": [],
   "source": [
    "# 1.2 Scatter plot of noisy points around the line above\n",
    "# TODO\n",
    "noise = np.random.randn(100)*0.8\n",
    "yn = ...\n",
    "plt.figure()\n",
    "plt.scatter(x, yn)\n",
    "plt.title('Noisy Data')\n",
    "plt.xlabel('x')\n",
    "plt.ylabel('y_noisy')\n",
    "plt.show()\n"
   ]
  },
  {
   "cell_type": "markdown",
   "id": "cb01245c",
   "metadata": {},
   "source": [
    "## 2) Multiple Lines & Legend"
   ]
  },
  {
   "cell_type": "code",
   "execution_count": null,
   "id": "ba29602e",
   "metadata": {},
   "outputs": [],
   "source": [
    "# 2.1 On one plot, show: true y, noisy yn, and a predicted y_hat (e.g., slope=1.9, bias=1.2)\n",
    "# TODO\n",
    "y_hat = ...\n",
    "plt.figure()\n",
    "plt.plot(x, y, label='true')\n",
    "plt.scatter(x, yn, label='noisy', s=10)\n",
    "plt.plot(x, y_hat, label='pred')\n",
    "plt.title('True vs Noisy vs Predicted')\n",
    "plt.xlabel('x')\n",
    "plt.ylabel('y')\n",
    "plt.legend()\n",
    "plt.show()\n"
   ]
  },
  {
   "cell_type": "markdown",
   "id": "1e2bedeb",
   "metadata": {},
   "source": [
    "## 3) Histograms & Distribution"
   ]
  },
  {
   "cell_type": "code",
   "execution_count": null,
   "id": "927f0b43",
   "metadata": {},
   "outputs": [],
   "source": [
    "# 3.1 Plot a histogram of a normal distribution and annotate mean/std on the title\n",
    "# TODO\n",
    "r = np.random.randn(1000)\n",
    "mu, sigma = r.mean(), r.std()\n",
    "plt.figure()\n",
    "plt.hist(r, bins=30)\n",
    "plt.title(f'Normal(0,1) ~ mean={mu:.2f}, std={sigma:.2f}')\n",
    "plt.xlabel('value')\n",
    "plt.ylabel('count')\n",
    "plt.show()\n"
   ]
  },
  {
   "cell_type": "markdown",
   "id": "8d963b54",
   "metadata": {},
   "source": [
    "## 4) Scatter with Color by Category (Bonus)"
   ]
  },
  {
   "cell_type": "code",
   "execution_count": null,
   "id": "9420a1ac",
   "metadata": {},
   "outputs": [],
   "source": [
    "# 4.1 Create x1, x2 features and a binary label y in {0,1}; plot scatter with different markers/colors\n",
    "# (No external libs; keep it simple.)\n",
    "n=120\n",
    "x1 = np.random.randn(n)\n",
    "x2 = np.random.randn(n) + (x1>0)*0.8\n",
    "y  = (x1 + x2 > 0).astype(int)\n",
    "# TODO: split points by class and plot with legend\n",
    "plt.figure()\n",
    "...\n",
    "plt.title('Classes in 2D')\n",
    "plt.xlabel('x1')\n",
    "plt.ylabel('x2')\n",
    "plt.legend()\n",
    "plt.show()\n"
   ]
  }
 ],
 "metadata": {},
 "nbformat": 4,
 "nbformat_minor": 5
}
