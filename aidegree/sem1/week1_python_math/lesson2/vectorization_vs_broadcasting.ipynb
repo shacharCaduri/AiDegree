{
 "cells": [
  {
   "cell_type": "markdown",
   "id": "593d97ba",
   "metadata": {},
   "source": [
    "# Vectorization vs Broadcasting in NumPy\n",
    "**Goal:** Understand the difference between *vectorization* and *broadcasting* with code and visuals.\n"
   ]
  },
  {
   "cell_type": "markdown",
   "id": "c10963be",
   "metadata": {},
   "source": [
    "## 1. Vectorization\n",
    "Vectorization means applying an operation to an entire array at once, instead of looping element by element."
   ]
  },
  {
   "cell_type": "code",
   "execution_count": 3,
   "id": "596cfa30",
   "metadata": {},
   "outputs": [
    {
     "name": "stdout",
     "output_type": "stream",
     "text": [
      "Squares (loop): [np.int64(0), np.int64(1), np.int64(4), np.int64(9), np.int64(16), np.int64(25), np.int64(36), np.int64(49), np.int64(64), np.int64(81)]\n",
      "Squares (vectorized): [0, 1, 4, 9, 16, 25, 36, 49, 64, 81]\n",
      "Loop time: 0.000066s, Vectorized time: 0.000024s\n"
     ]
    }
   ],
   "source": [
    "import numpy as np\n",
    "import time\n",
    "\n",
    "# Example: Square numbers 0..9\n",
    "x = np.arange(10)\n",
    "\n",
    "# Loop method\n",
    "start = time.time()\n",
    "squares_loop = [val**2 for val in x]\n",
    "loop_time = time.time() - start\n",
    "\n",
    "# Vectorized method\n",
    "start = time.time()\n",
    "squares_vec = x**2\n",
    "vec_time = time.time() - start\n",
    "\n",
    "print('Squares (loop):', squares_loop)\n",
    "print('Squares (vectorized):', squares_vec.tolist())\n",
    "print(f'Loop time: {loop_time:.6f}s, Vectorized time: {vec_time:.6f}s')"
   ]
  },
  {
   "cell_type": "markdown",
   "id": "085ba71a",
   "metadata": {},
   "source": [
    "## 2. Broadcasting\n",
    "Broadcasting lets you combine arrays of different shapes without explicitly copying data.\n",
    "For example, adding a row vector `(3,)` to a column vector `(2,1)` results in a `(2,3)` matrix."
   ]
  },
  {
   "cell_type": "code",
   "execution_count": null,
   "id": "a23d0768",
   "metadata": {},
   "outputs": [
    {
     "name": "stdout",
     "output_type": "stream",
     "text": [
      "x shape: (3,)\n",
      "y shape: (2, 1)\n",
      "result shape: (2, 3)\n",
      "[[11 12 13]\n",
      " [21 22 23]]\n"
     ]
    }
   ],
   "source": [
    "x = np.array([1,2,3])      # shape (3,)\n",
    "y = np.array([[10],[20]])  # shape (2,1)\n",
    "# The addition goes like this:\n",
    "# x = [1,2,3]\n",
    "# y = [[10],[20]]\n",
    "# y, x expands to (2,3) and (3,2) respectively, and then the addition is performed element-wise\n",
    "# result = [[1+10, 1+20, 1+30], [2+10, 2+20, 2+30], [3+10, 3+20, 3+30]]\n",
    "# result = [[11, 21, 31], [12, 22, 32], [13, 23, 33]]\n",
    "print('x shape:', x.shape)\n",
    "print('y shape:', y.shape)\n",
    "result = x + y\n",
    "print('result shape:', result.shape)\n",
    "print(result)"
   ]
  },
  {
   "cell_type": "markdown",
   "id": "3979fae3",
   "metadata": {},
   "source": [
    "## 3. Broadcasting Expansion Visual\n",
    "Let's visualize how broadcasting expands smaller arrays to match shapes."
   ]
  },
  {
   "cell_type": "code",
   "execution_count": 5,
   "id": "7b5b1980",
   "metadata": {},
   "outputs": [
    {
     "name": "stderr",
     "output_type": "stream",
     "text": [
      "Matplotlib is building the font cache; this may take a moment.\n"
     ]
    },
    {
     "data": {
      "image/png": "[encoded data removed]",
      "text/plain": [
       "<Figure size 1200x300 with 3 Axes>"
      ]
     },
     "metadata": {},
     "output_type": "display_data"
    }
   ],
   "source": [
    "import matplotlib.pyplot as plt\n",
    "\n",
    "fig, ax = plt.subplots(1,3, figsize=(12,3))\n",
    "\n",
    "# Original x\n",
    "x = np.array([1,2,3])\n",
    "ax[0].imshow(x.reshape(1,-1), cmap='Blues', aspect='auto')\n",
    "ax[0].set_title('x shape (1,3)')\n",
    "\n",
    "# Original y\n",
    "y = np.array([[10],[20]])\n",
    "ax[1].imshow(y, cmap='Greens', aspect='auto')\n",
    "ax[1].set_title('y shape (2,1)')\n",
    "\n",
    "# Broadcasted result\n",
    "res = x + y\n",
    "ax[2].imshow(res, cmap='Purples', aspect='auto')\n",
    "ax[2].set_title('Result shape (2,3)')\n",
    "\n",
    "plt.tight_layout()\n",
    "plt.show()"
   ]
  }
 ],
 "metadata": {
  "kernelspec": {
   "display_name": ".venv",
   "language": "python",
   "name": "python3"
  },
  "language_info": {
   "codemirror_mode": {
    "name": "ipython",
    "version": 3
   },
   "file_extension": ".py",
   "mimetype": "text/x-python",
   "name": "python",
   "nbconvert_exporter": "python",
   "pygments_lexer": "ipython3",
   "version": "3.12.11"
  }
 },
 "nbformat": 4,
 "nbformat_minor": 5
}
