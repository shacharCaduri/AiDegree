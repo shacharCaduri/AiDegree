{
 "cells": [
  {
   "cell_type": "markdown",
   "id": "b894c753",
   "metadata": {},
   "source": [
    "# Lesson 2 • Pandas Exercises\n",
    "\n",
    "Goal: Load/inspect data, filter with masks, group & aggregate, handle missing values, and merge datasets.\n",
    "\n"
   ]
  },
  {
   "cell_type": "code",
   "execution_count": null,
   "id": "9a771b22",
   "metadata": {},
   "outputs": [],
   "source": [
    "import pandas as pd\n",
    "import numpy as np\n",
    "pd.set_option('display.max_rows', 10)\n",
    "np.random.seed(42)\n"
   ]
  },
  {
   "cell_type": "code",
   "execution_count": null,
   "id": "a97b7322",
   "metadata": {},
   "outputs": [],
   "source": [
    "# Utility: create a tiny CSV to read from\n",
    "import io\n",
    "csv_text = io.StringIO('''id,age,city,income\n",
    "1,25,Tel Aviv,5400\n",
    "2,31,Haifa,7200\n",
    "3,29,Jerusalem,6600\n",
    "4,41,Tel Aviv,8800\n",
    "5,,Haifa,NaN\n",
    "6,35,Jerusalem,7300\n",
    "''')\n"
   ]
  },
  {
   "cell_type": "markdown",
   "id": "849e3361",
   "metadata": {},
   "source": [
    "## 1) Series & DataFrame Creation"
   ]
  },
  {
   "cell_type": "code",
   "execution_count": null,
   "id": "e83977d4",
   "metadata": {},
   "outputs": [],
   "source": [
    "# 1.1 Create a Series from a Python list of temperatures\n",
    "temps = [21.5, 22.0, 20.1, 19.8]\n",
    "# TODO: create `s`\n",
    "s = ...\n",
    "assert isinstance(s, pd.Series) and len(s)==4\n"
   ]
  },
  {
   "cell_type": "code",
   "execution_count": null,
   "id": "36b064bd",
   "metadata": {},
   "outputs": [],
   "source": [
    "# 1.2 Read the CSV above into a DataFrame `df`\n",
    "df = ...\n",
    "assert list(df.columns) == ['id','age','city','income'] and len(df)==6\n"
   ]
  },
  {
   "cell_type": "code",
   "execution_count": null,
   "id": "76519aec",
   "metadata": {},
   "outputs": [],
   "source": [
    "# 1.3 Create a DataFrame from dict\n",
    "data = {\n",
    "    'name': ['Alice','Bob','Carol','Dan'],\n",
    "    'score': [88,72,95,60],\n",
    "    'passed': [True, True, True, False]\n",
    "}\n",
    "df2 = ...\n",
    "assert {'name','score','passed'} <= set(df2.columns)\n"
   ]
  },
  {
   "cell_type": "markdown",
   "id": "cd948495",
   "metadata": {},
   "source": [
    "## 2) Indexing, Slicing, Filtering"
   ]
  },
  {
   "cell_type": "code",
   "execution_count": null,
   "id": "ed7b793e",
   "metadata": {},
   "outputs": [],
   "source": [
    "# 2.1 Select rows with age > 30 from `df`\n",
    "# TODO: set `older`\n",
    "df = pd.read_csv(csv_text)\n",
    "older = ...\n",
    "assert (older['age'] > 30).all()\n"
   ]
  },
  {
   "cell_type": "code",
   "execution_count": null,
   "id": "ddcef1fa",
   "metadata": {},
   "outputs": [],
   "source": [
    "# 2.2 Select only 'city' and 'income' columns\n",
    "cols = ...\n",
    "assert list(cols.columns) == ['city','income']\n"
   ]
  },
  {
   "cell_type": "code",
   "execution_count": null,
   "id": "8555cab9",
   "metadata": {},
   "outputs": [],
   "source": [
    "# 2.3 Use .loc to select rows with id in [2,4] and columns ['age','income']\n",
    "subset = ...\n",
    "assert subset.shape == (2,2)\n"
   ]
  },
  {
   "cell_type": "code",
   "execution_count": null,
   "id": "ab15115f",
   "metadata": {},
   "outputs": [],
   "source": [
    "# 2.4 Use .iloc to select first 3 rows and the last 2 columns\n",
    "iloc_part = ...\n",
    "assert iloc_part.shape == (3,2)\n"
   ]
  },
  {
   "cell_type": "markdown",
   "id": "25c4325b",
   "metadata": {},
   "source": [
    "## 3) Groupby & Aggregation"
   ]
  },
  {
   "cell_type": "code",
   "execution_count": null,
   "id": "660c0627",
   "metadata": {},
   "outputs": [],
   "source": [
    "# 3.1 Group by 'city' compute mean income (ignore NaNs)\n",
    "df = pd.read_csv(io.StringIO(csv_text.getvalue()))\n",
    "mean_income_by_city = ...\n",
    "assert isinstance(mean_income_by_city, pd.Series)\n"
   ]
  },
  {
   "cell_type": "code",
   "execution_count": null,
   "id": "b2b35a7e",
   "metadata": {},
   "outputs": [],
   "source": [
    "# 3.2 Group by city, compute count and max age\n",
    "agg_stats = ...  # use .agg({'age':['count','max']})\n",
    "assert 'count' in agg_stats.columns.get_level_values(1).tolist()\n"
   ]
  },
  {
   "cell_type": "code",
   "execution_count": null,
   "id": "8e94658b",
   "metadata": {},
   "outputs": [],
   "source": [
    "# 3.3 Create a new column 'income_k' = income / 1000 then group by city and compute mean\n",
    "df = pd.read_csv(io.StringIO(csv_text.getvalue()))\n",
    "...\n",
    "mean_k = ...\n",
    "assert isinstance(mean_k, pd.Series)\n"
   ]
  },
  {
   "cell_type": "markdown",
   "id": "557f1980",
   "metadata": {},
   "source": [
    "## 4) Sorting & Missing Values"
   ]
  },
  {
   "cell_type": "code",
   "execution_count": null,
   "id": "424d61b8",
   "metadata": {},
   "outputs": [],
   "source": [
    "# 4.1 Sort df by income descending (NaNs last)\n",
    "df = pd.read_csv(io.StringIO(csv_text.getvalue()))\n",
    "sorted_df = ...\n",
    "assert sorted_df['income'].iloc[0] >= sorted_df['income'].iloc[1]\n"
   ]
  },
  {
   "cell_type": "code",
   "execution_count": null,
   "id": "e3dcfab9",
   "metadata": {},
   "outputs": [],
   "source": [
    "# 4.2 Count missing values per column\n",
    "na_counts = ...\n",
    "assert isinstance(na_counts, pd.Series) and 'age' in na_counts.index\n"
   ]
  },
  {
   "cell_type": "code",
   "execution_count": null,
   "id": "c4946474",
   "metadata": {},
   "outputs": [],
   "source": [
    "# 4.3 Fill missing age with the mean age and drop rows where income is NaN\n",
    "df = pd.read_csv(io.StringIO(csv_text.getvalue()))\n",
    "df['age'] = ...\n",
    "df = ...\n",
    "assert df['age'].isna().sum() == 0 and df['income'].isna().sum() == 0\n"
   ]
  },
  {
   "cell_type": "markdown",
   "id": "4b664f96",
   "metadata": {},
   "source": [
    "## 5) Merge / Join (Bonus)"
   ]
  },
  {
   "cell_type": "code",
   "execution_count": null,
   "id": "803e6bd4",
   "metadata": {},
   "outputs": [],
   "source": [
    "# 5.1 Merge two DataFrames on 'id'\n",
    "left  = pd.DataFrame({'id':[1,2,3], 'group':['A','B','A']})\n",
    "right = pd.DataFrame({'id':[2,3,4], 'score':[90,75,60]})\n",
    "# TODO: set `merged`\n",
    "merged = ...\n",
    "assert set(merged.columns) == {'id','group','score'} and len(merged)==2\n"
   ]
  }
 ],
 "metadata": {},
 "nbformat": 4,
 "nbformat_minor": 5
}
