{
 "cells": [
  {
   "cell_type": "markdown",
   "id": "b894c753",
   "metadata": {},
   "source": [
    "# Lesson 2 • Pandas Exercises\n",
    "\n",
    "Goal: Load/inspect data, filter with masks, group & aggregate, handle missing values, and merge datasets.\n",
    "\n"
   ]
  },
  {
   "cell_type": "code",
   "execution_count": 2,
   "id": "9a771b22",
   "metadata": {},
   "outputs": [],
   "source": [
    "import pandas as pd\n",
    "import numpy as np\n",
    "pd.set_option('display.max_rows', 10)\n",
    "np.random.seed(42)\n"
   ]
  },
  {
   "cell_type": "code",
   "execution_count": 3,
   "id": "a97b7322",
   "metadata": {},
   "outputs": [],
   "source": [
    "# Utility: create a tiny CSV to read from\n",
    "import io\n",
    "csv_text = io.StringIO('''id,age,city,income\n",
    "1,25,Tel Aviv,5400\n",
    "2,31,Haifa,7200\n",
    "3,29,Jerusalem,6600\n",
    "4,41,Tel Aviv,8800\n",
    "5,,Haifa,NaN\n",
    "6,35,Jerusalem,7300\n",
    "''')\n"
   ]
  },
  {
   "cell_type": "markdown",
   "id": "849e3361",
   "metadata": {},
   "source": [
    "## 1) Series & DataFrame Creation"
   ]
  },
  {
   "cell_type": "code",
   "execution_count": 5,
   "id": "e83977d4",
   "metadata": {},
   "outputs": [],
   "source": [
    "# 1.1 Create a Series from a Python list of temperatures\n",
    "temps = [21.5, 22.0, 20.1, 19.8]\n",
    "# TODO: create `s`\n",
    "s = pd.Series(data=temps, dtype='float32')\n",
    "assert isinstance(s, pd.Series) and len(s)==4\n"
   ]
  },
  {
   "cell_type": "code",
   "execution_count": 6,
   "id": "36b064bd",
   "metadata": {},
   "outputs": [],
   "source": [
    "# 1.2 Read the CSV above into a DataFrame `df`\n",
    "df = pd.read_csv(csv_text)\n",
    "assert list(df.columns) == ['id','age','city','income'] and len(df)==6\n"
   ]
  },
  {
   "cell_type": "code",
   "execution_count": 9,
   "id": "76519aec",
   "metadata": {},
   "outputs": [],
   "source": [
    "# 1.3 Create a DataFrame from dict\n",
    "data = {\n",
    "    'name': ['Alice','Bob','Carol','Dan'],\n",
    "    'score': [88,72,95,60],\n",
    "    'passed': [True, True, True, False]\n",
    "}\n",
    "df2 = pd.DataFrame(data=data)  # Can also be `from_dict(data)` if df already exists\n",
    "assert {'name','score','passed'} <= set(df2.columns)\n"
   ]
  },
  {
   "cell_type": "markdown",
   "id": "cd948495",
   "metadata": {},
   "source": [
    "## 2) Indexing, Slicing, Filtering"
   ]
  },
  {
   "cell_type": "code",
   "execution_count": 6,
   "id": "ed7b793e",
   "metadata": {},
   "outputs": [],
   "source": [
    "# 2.1 Select rows with age > 30 from `df`\n",
    "# TODO: set `older`\n",
    "import io\n",
    "csv_text = io.StringIO('''id,age,city,income\n",
    "1,25,Tel Aviv,5400\n",
    "2,31,Haifa,7200\n",
    "3,29,Jerusalem,6600\n",
    "4,41,Tel Aviv,8800\n",
    "5,,Haifa,NaN\n",
    "6,35,Jerusalem,7300\n",
    "''')\n",
    "df = pd.read_csv(csv_text)\n",
    "older = df.where(df['age'] > 30)\n",
    "older.dropna(inplace=True)\n",
    "assert (older['age'] > 30).all()\n",
    "\n",
    "older = df.query('age > 30')\n",
    "assert (older['age'] > 30).all()\n",
    "\n",
    "older = df.loc[df['age'] > 30]\n",
    "assert (older['age'] > 30).all()\n"
   ]
  },
  {
   "cell_type": "code",
   "execution_count": 7,
   "id": "ddcef1fa",
   "metadata": {},
   "outputs": [],
   "source": [
    "# 2.2 Select only 'city' and 'income' columns\n",
    "cols = df[['city', 'income']]\n",
    "assert list(cols.columns) == ['city','income']\n"
   ]
  },
  {
   "cell_type": "code",
   "execution_count": 8,
   "id": "8555cab9",
   "metadata": {},
   "outputs": [
    {
     "name": "stdout",
     "output_type": "stream",
     "text": [
      "    age  income\n",
      "1  31.0  7200.0\n",
      "3  41.0  8800.0\n"
     ]
    }
   ],
   "source": [
    "# 2.3 Use .loc to select rows with id in [2,4] and columns ['age','income']\n",
    "subset = df.loc[df['id'].isin([2,4]), ['age', 'income']]\n",
    "print(subset)\n",
    "assert subset.shape == (2,2)\n"
   ]
  },
  {
   "cell_type": "code",
   "execution_count": 9,
   "id": "ab15115f",
   "metadata": {},
   "outputs": [],
   "source": [
    "# 2.4 Use .iloc to select first 3 rows and the last 2 columns\n",
    "iloc_part = df.iloc[0:3, -2:]\n",
    "assert iloc_part.shape == (3,2)\n"
   ]
  },
  {
   "cell_type": "markdown",
   "id": "25c4325b",
   "metadata": {},
   "source": [
    "## 3) Groupby & Aggregation"
   ]
  },
  {
   "cell_type": "code",
   "execution_count": 11,
   "id": "660c0627",
   "metadata": {},
   "outputs": [],
   "source": [
    "# 3.1 Group by 'city' compute mean income (ignore NaNs)\n",
    "df = pd.read_csv(io.StringIO(csv_text.getvalue()))\n",
    "mean_income_by_city = df.groupby(df['city'],dropna=True)['income'].mean()\n",
    "assert isinstance(mean_income_by_city, pd.Series)\n"
   ]
  },
  {
   "cell_type": "code",
   "execution_count": 21,
   "id": "b2b35a7e",
   "metadata": {},
   "outputs": [
    {
     "name": "stdout",
     "output_type": "stream",
     "text": [
      "          income           age      \n",
      "           count    mean count  mean\n",
      "city                                \n",
      "Haifa          1  7200.0     1  31.0\n",
      "Jerusalem      2  6950.0     2  32.0\n",
      "Tel Aviv       2  7100.0     2  33.0 \n",
      "    id   age       city  income\n",
      "0   1  25.0   Tel Aviv  5400.0\n",
      "1   2  31.0      Haifa  7200.0\n",
      "2   3  29.0  Jerusalem  6600.0\n",
      "3   4  41.0   Tel Aviv  8800.0\n",
      "4   5   NaN      Haifa     NaN\n",
      "5   6  35.0  Jerusalem  7300.0\n"
     ]
    }
   ],
   "source": [
    "# 3.2 Group by city, compute count and max age\n",
    "# agg lets perform several operations on a column in one line in \"1 call\" (behind the scene it is probably more) \n",
    "agg_stats = df.groupby(df['city']).agg({'income': ['count', 'mean'], 'age': ['count', 'mean']})  # use .agg({'age':['count','max']})\n",
    "print(agg_stats, \"\\n\", df)\n",
    "assert 'count' in agg_stats.columns.get_level_values(1).tolist()\n"
   ]
  },
  {
   "cell_type": "code",
   "execution_count": null,
   "id": "8e94658b",
   "metadata": {},
   "outputs": [
    {
     "name": "stdout",
     "output_type": "stream",
     "text": [
      "city\n",
      "Haifa        7.20\n",
      "Jerusalem    6.95\n",
      "Tel Aviv     7.10\n",
      "Name: income_k, dtype: float64\n"
     ]
    }
   ],
   "source": [
    "# 3.3 Create a new column 'income_k' = income / 1000 then group by city and compute mean\n",
    "df = pd.read_csv(io.StringIO(csv_text.getvalue()))\n",
    "df['income_k'] = df['income'] / 1000\n",
    "mean_k = df.groupby(df['city'], dropna=True)['income_k'].mean(numeric_only=True)\n",
    "print(mean_k)\n",
    "assert isinstance(mean_k, pd.Series)\n"
   ]
  },
  {
   "cell_type": "markdown",
   "id": "557f1980",
   "metadata": {},
   "source": [
    "## 4) Sorting & Missing Values"
   ]
  },
  {
   "cell_type": "code",
   "execution_count": 37,
   "id": "424d61b8",
   "metadata": {},
   "outputs": [],
   "source": [
    "# 4.1 Sort df by income descending (NaNs last)\n",
    "df = pd.read_csv(io.StringIO(csv_text.getvalue()))\n",
    "sorted_df = df.sort_values(by='income', ascending=False, na_position='last')\n",
    "assert sorted_df['income'].iloc[0] >= sorted_df['income'].iloc[1]\n"
   ]
  },
  {
   "cell_type": "code",
   "execution_count": 90,
   "id": "e3dcfab9",
   "metadata": {},
   "outputs": [
    {
     "name": "stdout",
     "output_type": "stream",
     "text": [
      "id        0\n",
      "age       1\n",
      "city      0\n",
      "income    1\n",
      "dtype: int64\n"
     ]
    }
   ],
   "source": [
    "# 4.2 Count missing values per column\n",
    "na_counts = df.isna().sum()\n",
    "print(na_counts)\n",
    "assert isinstance(na_counts, pd.Series) and 'age' in na_counts.index"
   ]
  },
  {
   "cell_type": "code",
   "execution_count": null,
   "id": "c4946474",
   "metadata": {},
   "outputs": [
    {
     "name": "stdout",
     "output_type": "stream",
     "text": [
      "    age       city  income\n",
      "0  25.0   Tel Aviv  5400.0\n",
      "1  31.0      Haifa  7200.0\n",
      "2   NaN  Jerusalem  6600.0\n",
      "3  41.0   Tel Aviv     NaN\n",
      "4   NaN      Haifa     NaN\n",
      "5  35.0  Jerusalem  7300.0\n",
      "6  22.0        NaN  4800.0\n",
      "7   NaN     Berlin     NaN\n",
      "8  28.0      Paris  5900.0\n",
      "9   NaN      Tokyo     NaN\n",
      "         age       city  income\n",
      "0  25.000000   Tel Aviv  5400.0\n",
      "1  31.000000      Haifa  7200.0\n",
      "2  30.333333  Jerusalem  6600.0\n",
      "5  35.000000  Jerusalem  7300.0\n",
      "8  28.000000      Paris  5900.0\n"
     ]
    }
   ],
   "source": [
    "# 4.3 Fill missing age with the mean age and drop rows where income is NaN\n",
    "\n",
    "csv_text = '''age,city,income\n",
    "25,Tel Aviv,5400\n",
    "31,Haifa,7200\n",
    ",Jerusalem,6600\n",
    "41,Tel Aviv,\n",
    ",Haifa,\n",
    "35,Jerusalem,7300\n",
    "22,,4800\n",
    ",Berlin,\n",
    "28,Paris,5900\n",
    ",Tokyo,'''\n",
    "\n",
    "df = pd.read_csv(io.StringIO(csv_text))\n",
    "print(df)\n",
    "df['age'] = df['age'].fillna(df['age'].mean())\n",
    "df = df.dropna(subset=['city', 'income'])\n",
    "print(df)\n",
    "assert df['age'].isna().sum() == 0 and df['income'].isna().sum() == 0"
   ]
  },
  {
   "cell_type": "markdown",
   "id": "4b664f96",
   "metadata": {},
   "source": [
    "## 5) Merge / Join (Bonus)"
   ]
  },
  {
   "cell_type": "code",
   "execution_count": 106,
   "id": "803e6bd4",
   "metadata": {},
   "outputs": [
    {
     "name": "stdout",
     "output_type": "stream",
     "text": [
      "   id group\n",
      "0   1     A\n",
      "1   2     B\n",
      "2   3     A\n",
      "   id  score\n",
      "0   2     90\n",
      "1   3     75\n",
      "2   4     60\n",
      "   id group  score\n",
      "0   2     B     90\n",
      "1   3     A     75\n"
     ]
    }
   ],
   "source": [
    "# 5.1 Merge two DataFrames on 'id'\n",
    "left  = pd.DataFrame({'id':[1,2,3], 'group':['A','B','A']})\n",
    "right = pd.DataFrame({'id':[2,3,4], 'score':[90,75,60]})\n",
    "# TODO: set `merged`\n",
    "merged = pd.merge(left, right, on='id')\n",
    "print(left)\n",
    "print(right)\n",
    "print(merged)\n",
    "assert set(merged.columns) == {'id','group','score'} and len(merged)==2\n"
   ]
  }
 ],
 "metadata": {
  "kernelspec": {
   "display_name": ".venv",
   "language": "python",
   "name": "python3"
  },
  "language_info": {
   "codemirror_mode": {
    "name": "ipython",
    "version": 3
   },
   "file_extension": ".py",
   "mimetype": "text/x-python",
   "name": "python",
   "nbconvert_exporter": "python",
   "pygments_lexer": "ipython3",
   "version": "3.12.11"
  }
 },
 "nbformat": 4,
 "nbformat_minor": 5
}
