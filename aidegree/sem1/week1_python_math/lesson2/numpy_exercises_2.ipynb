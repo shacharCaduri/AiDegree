{
 "cells": [
  {
   "cell_type": "markdown",
   "id": "4fcdf255",
   "metadata": {},
   "source": [
    "# Lesson 2 • NumPy Exercises\n",
    "\n",
    "Goal: Get fluent with arrays, slicing, vectorized ops, broadcasting, matrix math, and basic linear algebra.\n",
    "\n",
    "**How to use:**\n",
    "\n",
    "- Work top to bottom. Don't skip the short sanity checks (`assert`).\n",
    "- Prefer vectorized solutions (no Python loops) unless explicitly asked.\n",
    "\n",
    "- If you get stuck, write a tiny example and print shapes.\n",
    "\n"
   ]
  },
  {
   "cell_type": "code",
   "execution_count": null,
   "id": "be42a921",
   "metadata": {},
   "outputs": [],
   "source": [
    "import numpy as np\n",
    "np.random.seed(42)  # For reproducibility\n"
   ]
  },
  {
   "cell_type": "markdown",
   "id": "3482c74b",
   "metadata": {},
   "source": [
    "## 1) Array Creation & Shapes"
   ]
  },
  {
   "cell_type": "code",
   "execution_count": null,
   "id": "d24f9b8c",
   "metadata": {},
   "outputs": [],
   "source": [
    "# 1.1 Create a 1D array of integers 0..9 (inclusive)\n",
    "# TODO: create `a`\n",
    "import numpy as np\n",
    "# a = np.ndarray(shape=(10,), dtype='i', buffer=np.zeros(10))\n",
    "# a = np.arange(10)\n",
    "a = np.array([i for i in range(10)])\n",
    "assert a.shape == (10,) and a[0] == 0 and a[-1] == 9\n"
   ]
  },
  {
   "cell_type": "code",
   "execution_count": null,
   "id": "d8b746df",
   "metadata": {},
   "outputs": [],
   "source": [
    "# 1.2 Create a 3x4 matrix filled with zeros (dtype float32)\n",
    "# TODO: create `Z`\n",
    "# np.array can be used to create arrays from list and staff, but ndarray can be use to construct shapes filled with zeroes or init some matrix can be created from bytes also using its buffer option\n",
    "Z = np.ndarray(shape=(3,4), dtype='float32', buffer=np.zeros(shape=(3,4), dtype='float32'))\n",
    "assert Z.shape == (3,4) and Z.dtype == np.float32 and np.allclose(Z, 0)\n"
   ]
  },
  {
   "cell_type": "code",
   "execution_count": null,
   "id": "921ca3b9",
   "metadata": {},
   "outputs": [],
   "source": [
    "# 1.3 Create a 2x3 matrix from a nested Python list using np.array\n",
    "# TODO: create `M`\n",
    "M = np.array([[1,2,3],[4,5,6]])\n",
    "assert M.shape == (2,3)\n"
   ]
  },
  {
   "cell_type": "code",
   "execution_count": null,
   "id": "94081d35",
   "metadata": {},
   "outputs": [],
   "source": [
    "# 1.4 Reshape a vector of length 12 into shape (3,4)\n",
    "# TODO: create `R`\n",
    "v = np.arange(12)\n",
    "R = v.reshape(3,4)\n",
    "assert R.shape == (3,4) and R[0,0] == 0 and R[-1,-1] == 11\n"
   ]
  },
  {
   "cell_type": "markdown",
   "id": "f3399a49",
   "metadata": {},
   "source": [
    "## 2) Indexing, Slicing, Copy vs. View"
   ]
  },
  {
   "cell_type": "code",
   "execution_count": null,
   "id": "86a7b96a",
   "metadata": {},
   "outputs": [],
   "source": [
    "# 2.1 Slice the last 3 elements from the 0..9 array as `tail`\n",
    "# TODO: set `tail`\n",
    "a = np.arange(10)\n",
    "tail = a[-3:]\n",
    "assert tail.tolist() == [7,8,9]\n"
   ]
  },
  {
   "cell_type": "code",
   "execution_count": null,
   "id": "fed269fd",
   "metadata": {},
   "outputs": [],
   "source": [
    "# 2.2 From a 5x5 random matrix, extract the center 3x3 block\n",
    "X = np.random.randn(5,5)\n",
    "# TODO: set `center`\n",
    "center = X[1:4,1:4]  # Why 1:4? because this tells it to take all elements in the rows from 1 to 4 and same for columns right after it\n",
    "assert center.shape == (3,3)\n"
   ]
  },
  {
   "cell_type": "code",
   "execution_count": null,
   "id": "a6f135df",
   "metadata": {},
   "outputs": [],
   "source": [
    "# 2.3 Demonstrate view vs copy: make `b` a view of `a`, and `c` a copy of `a`.\n",
    "a = np.arange(6) \n",
    "b = a.view() # view\n",
    "c = a.copy() # copy\n",
    "a[0] = 99\n",
    "# TODO: replace the ellipses so these asserts are True\n",
    "assert b[0] == 99, 'b should reflect changes (view)'\n",
    "assert c[0] != 99, 'c should NOT reflect changes (copy)'\n"
   ]
  },
  {
   "cell_type": "code",
   "execution_count": null,
   "id": "00c3350d",
   "metadata": {},
   "outputs": [],
   "source": [
    "# 2.4 Fancy indexing: pick rows [0,2,4] and cols [1,3] from a 5x5 grid\n",
    "G = np.arange(25).reshape(5,5)\n",
    "# TODO: set `sub`\n",
    "sub = G[[0,2,4]][:, [1,3]]  # the :, means as for the columns of the new matrix take all rows with columns 1,3 and for its rows take rows 0,2,4 exactly\n",
    "assert sub.shape == (3,2) and sub[0,0] == 1 and sub[-1,-1] == 23\n"
   ]
  },
  {
   "cell_type": "markdown",
   "id": "de35087e",
   "metadata": {},
   "source": [
    "## 3) Vectorized Operations"
   ]
  },
  {
   "cell_type": "code",
   "execution_count": null,
   "id": "6ae87973",
   "metadata": {},
   "outputs": [],
   "source": [
    "# 3.1 Compute element-wise: y = 3*x^2 + 2*x + 1 for x = 0..9 (vectorized)\n",
    "import numpy as np\n",
    "x = np.arange(10)\n",
    "# TODO: set `y`\n",
    "y = 3*x**2 + 2*x + 1  # can create polynomials like this\n",
    "assert np.all(y == (3*x**2 + 2*x + 1))\n"
   ]
  },
  {
   "cell_type": "code",
   "execution_count": null,
   "id": "749243d7",
   "metadata": {},
   "outputs": [],
   "source": [
    "# 3.2 Boolean masking: from x=0..19, keep only even numbers\n",
    "x = np.arange(20)\n",
    "# TODO: set `evens`\n",
    "evens = x[x % 2 == 0]\n",
    "assert evens.tolist() == list(range(0,20,2))\n"
   ]
  },
  {
   "cell_type": "code",
   "execution_count": null,
   "id": "509b95ed",
   "metadata": {},
   "outputs": [],
   "source": [
    "# 3.3 Standardize an array: z = (u - mean) / std\n",
    "u = np.random.randn(1000)\n",
    "# TODO: set `z`\n",
    "z = (u - np.mean(u)) / np.std(u)\n",
    "assert abs(z.mean()) < 1e-6 and abs(z.std() - 1) < 1e-6  # Why < 1e-6? Mean ~= 0 (within 0.0000001), Std. Dev. - 1 ~= 0 (within 0.0000001) \n"
   ]
  },
  {
   "cell_type": "code",
   "execution_count": null,
   "id": "c368683e",
   "metadata": {},
   "outputs": [],
   "source": [
    "# 3.4 Compute row-wise means for a random 10x5 matrix WITHOUT loops\n",
    "A = np.random.randn(10,5)\n",
    "# TODO: set `row_means`\n",
    "row_means = np.mean(A, axis=(1,))\n",
    "assert row_means.shape == (10,)\n"
   ]
  },
  {
   "cell_type": "code",
   "execution_count": null,
   "id": "70319c10",
   "metadata": {},
   "outputs": [],
   "source": [
    "# 3.5 Argmax: find index of max element in an array\n",
    "q = np.array([1, 5, 10, 9, 0])\n",
    "# TODO: set `imax`\n",
    "imax = np.where(q == np.max(q))[0][0]\n",
    "assert imax == 2\n"
   ]
  },
  {
   "cell_type": "markdown",
   "id": "90389fe5",
   "metadata": {},
   "source": [
    "## 4) Broadcasting"
   ]
  },
  {
   "cell_type": "code",
   "execution_count": null,
   "id": "ece0c3bd",
   "metadata": {},
   "outputs": [],
   "source": [
    "# 4.1 Add a column vector to each row of a 3x4 matrix\n",
    "M = np.arange(12).reshape(3,4)\n",
    "col = np.array([[10],[100],[1000]])\n",
    "# TODO: set `B` using broadcasting (no loops)\n",
    "B = M + col  # What happen here, the col vector is added to each row of the matrix M col[0] is added to each row of M[0] and so on\n",
    "assert B.shape == (3,4) and np.all(B[0] == M[0] + 10)\n"
   ]
  },
  {
   "cell_type": "code",
   "execution_count": null,
   "id": "89fd8aaf",
   "metadata": {},
   "outputs": [],
   "source": [
    "# 4.2 Normalize each column of a matrix: (col - mean)/std using broadcasting\n",
    "X = np.random.randn(6,4)\n",
    "# TODO: set `Xn`\n",
    "Xn = (X - np.mean(X, axis=0)) / np.std(X, axis=0)  # what happens here?, the mean and std are calculated for each column, and then the column is normalized by the mean and std of the column\n",
    "col_means = Xn.mean(axis=0)\n",
    "col_stds  = Xn.std(axis=0)\n",
    "print(col_means, \"\\t\", col_stds)\n",
    "print(\"--------------------------------\")\n",
    "print(Xn.mean(axis=0), \"\\t\", X.mean(axis=0))\n",
    "print(\"--------------------------------\")\n",
    "print(Xn, \"\\t\\t\", X)\n",
    "assert np.allclose(col_means, 0, atol=1e-6) and np.allclose(col_stds, 1, atol=1e-6)\n"
   ]
  },
  {
   "cell_type": "code",
   "execution_count": null,
   "id": "3c684077",
   "metadata": {},
   "outputs": [],
   "source": [
    "# 4.3 Outer sum: produce a matrix O where O[i,j] = a[i] + b[j]\n",
    "a = np.array([1,2,3])\n",
    "b = np.array([10,20,30,40])\n",
    "# TODO: set `O`\n",
    "O = \n",
    "assert O.shape == (3,4) and O[0,0]==11 and O[-1,-1]==43\n"
   ]
  },
  {
   "cell_type": "markdown",
   "id": "3149d523",
   "metadata": {},
   "source": [
    "## 5) Matrix Multiplication & Dot Products"
   ]
  },
  {
   "cell_type": "code",
   "execution_count": null,
   "id": "803e8c48",
   "metadata": {},
   "outputs": [],
   "source": [
    "# 5.1 Compute M @ N and N @ M for M(2x3) and N(3x2), check shapes\n",
    "M = np.arange(6).reshape(2,3)\n",
    "N = np.arange(6).reshape(3,2)\n",
    "# TODO: set `MN`, `NM`\n",
    "MN = ...\n",
    "NM = ...\n",
    "assert MN.shape == (2,2) and NM.shape == (3,3)\n"
   ]
  },
  {
   "cell_type": "code",
   "execution_count": null,
   "id": "95bf9e1b",
   "metadata": {},
   "outputs": [],
   "source": [
    "# 5.2 For vectors u and v length 4, compute dot product two ways\n",
    "u = np.array([1,2,3,4])\n",
    "v = np.array([10,20,30,40])\n",
    "# TODO: set `dot1`, `dot2`\n",
    "dot1 = u @ v  # via np.dot or @\n",
    "dot2 = u.dot(v)  # via elementwise then sum\n",
    "assert dot1 == dot2 == 300\n"
   ]
  },
  {
   "cell_type": "code",
   "execution_count": 32,
   "id": "97ccf840",
   "metadata": {},
   "outputs": [],
   "source": [
    "# 5.3 Batched matmul: given A(5x3) and B(3x4), compute C = A @ B\n",
    "A = np.random.randn(5,3)\n",
    "B = np.random.randn(3,4)\n",
    "# TODO: set `C`\n",
    "C = A @ B\n",
    "assert C.shape == (5,4)\n"
   ]
  },
  {
   "cell_type": "code",
   "execution_count": 33,
   "id": "69f600db",
   "metadata": {},
   "outputs": [],
   "source": [
    "# 5.4 Check associativity: (A@B)@C vs A@(B@C)\n",
    "A = np.random.randn(3,2)\n",
    "B = np.random.randn(2,4)\n",
    "C = np.random.randn(4,5)\n",
    "left  = (A@B)@C\n",
    "right = A@(B@C)\n",
    "assert np.allclose(left, right)  # allclose is a function that checks if two arrays are close to each other, by close to each other we mean that the difference between the two arrays is less than a certain tolerance\n"
   ]
  },
  {
   "cell_type": "markdown",
   "id": "a9cc1b24",
   "metadata": {},
   "source": [
    "## 6) Statistics"
   ]
  },
  {
   "cell_type": "code",
   "execution_count": 34,
   "id": "77dcbf5c",
   "metadata": {},
   "outputs": [],
   "source": [
    "# 6.1 Compute mean, std over axis 0 and 1 for a 6x4 matrix\n",
    "X = np.random.randn(6,4)\n",
    "# TODO: set `m0`, `s0`, `m1`, `s1`\n",
    "m0, s0 = X.mean(axis=0), X.std(axis=0)\n",
    "m1, s1 = X.mean(axis=1), X.std(axis=1)\n",
    "assert m0.shape==(4,) and s1.shape==(6,)\n"
   ]
  },
  {
   "cell_type": "code",
   "execution_count": 35,
   "id": "9c6b688c",
   "metadata": {},
   "outputs": [],
   "source": [
    "# 6.2 Percentiles: compute 25th, 50th, 75th percentiles of a vector\n",
    "\"\"\" A percentile of a vector is the value below which a certain percentage of the data falls, representing how data points rank relative\n",
    "to the entire dataset. Example: In the vector [1, 3, 5, 7, 9], the 80th percentile is 7 because 80% of the values (4 out of 5) are less\n",
    "than or equal to 7.\n",
    "\"\"\"\n",
    "x = np.random.randn(1000)\n",
    "def find_percentile(vector: np.ndarray[np.int32], percent: float) -> int:\n",
    "    \"\"\" Can be used instead of np.percentile, not recommended, better to use np.percentile(..)\"\"\"\n",
    "    sorted = np.sort(vector)\n",
    "    n = len(vector)\n",
    "    position = (percent / 100) * (n - 1)\n",
    "\n",
    "    if position.is_integer():\n",
    "        return sorted[int(position)]\n",
    "    else:  # If position is not an integer because of the length so we take floor of the position and 1 above and \n",
    "        lower = int(position)\n",
    "        upper = lower + 1\n",
    "        fraction = position - lower\n",
    "        return sorted[lower] * (1 - fraction) + sorted[upper] * fraction\n",
    "    \n",
    "# TODO: set `p25`, `p50`, `p75`\n",
    "p25, p50, p75 = find_percentile(x, 25.0), find_percentile(x, 50), np.percentile(x, 75)\n",
    "assert p25 <= p50 <= p75\n"
   ]
  },
  {
   "cell_type": "code",
   "execution_count": 40,
   "id": "39dfec3b",
   "metadata": {},
   "outputs": [],
   "source": [
    "# 6.3 Covariance matrix of 5 features with 200 samples\n",
    "X = np.random.randn(200,5)\n",
    "# TODO: set `Sigma` (shape 5x5)\n",
    "Sigma = np.cov(X.T)\n",
    "Sigma2 = np.cov(X, rowvar=False)\n",
    "assert Sigma.shape == (5,5)\n",
    "assert Sigma.shape == Sigma2.shape\n"
   ]
  },
  {
   "cell_type": "code",
   "execution_count": null,
   "id": "3882a3d5",
   "metadata": {},
   "outputs": [],
   "source": [
    "# 6.4 Z-score outlier detection: count values with |z|>3 in a 1000-sample vector\n",
    "# Why |z| > 3? In a normal distribution, about 99.7% of values fall within ±3 standard deviations,\n",
    "# Values beyond ±3 standard deviations are considered statistical outliers,\n",
    "# This is a common threshold in statistics.\n",
    "x = np.random.randn(1000)\n",
    "# TODO: set `n_out`\n",
    "z = (x - x.mean())/x.std()\n",
    "n_out = np.sum(np.abs(z) > 3)\n",
    "assert isinstance(n_out, (int, np.integer)) and n_out >= 0\n"
   ]
  },
  {
   "cell_type": "markdown",
   "id": "a8e3503b",
   "metadata": {},
   "source": [
    "## 7) Linear Algebra (Bonus)"
   ]
  },
  {
   "cell_type": "code",
   "execution_count": 52,
   "id": "288599d3",
   "metadata": {},
   "outputs": [],
   "source": [
    "# 7.1 Solve Ax=b for x\n",
    "A = np.array([[3.,2.],[1.,2.]])\n",
    "b = np.array([12.,10.])\n",
    "# TODO: set `x`\n",
    "x = np.linalg.solve(A, b)\n",
    "assert np.allclose(A@x, b)\n"
   ]
  },
  {
   "cell_type": "code",
   "execution_count": 53,
   "id": "5bd20949",
   "metadata": {},
   "outputs": [],
   "source": [
    "# 7.2 Compute eigenvalues of a symmetric matrix and verify they are real\n",
    "S = np.array([[2.,1.],[1.,2.]])\n",
    "# TODO: set `w`\n",
    "w, _ = np.linalg.eig(S)\n",
    "assert np.all(np.isreal(w))\n"
   ]
  },
  {
   "cell_type": "code",
   "execution_count": 54,
   "id": "149d607d",
   "metadata": {},
   "outputs": [],
   "source": [
    "# 7.3 Least squares: given X(100x2), y(100,), solve for beta in min ||X beta - y||\n",
    "X = np.c_[np.ones(100), np.random.randn(100)]\n",
    "true_beta = np.array([2.0, 0.5])\n",
    "y = X @ true_beta + 0.1*np.random.randn(100)\n",
    "# TODO: set `beta_hat`\n",
    "beta_hat, *_ = np.linalg.lstsq(X, y)  # hint: np.linalg.lstsq\n",
    "assert np.allclose(beta_hat, true_beta, atol=0.1)\n"
   ]
  }
 ],
 "metadata": {
  "kernelspec": {
   "display_name": ".venv",
   "language": "python",
   "name": "python3"
  },
  "language_info": {
   "codemirror_mode": {
    "name": "ipython",
    "version": 3
   },
   "file_extension": ".py",
   "mimetype": "text/x-python",
   "name": "python",
   "nbconvert_exporter": "python",
   "pygments_lexer": "ipython3",
   "version": "3.12.11"
  }
 },
 "nbformat": 4,
 "nbformat_minor": 5
}
