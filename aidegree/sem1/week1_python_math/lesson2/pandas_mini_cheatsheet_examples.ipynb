{
 "cells": [
  {
   "cell_type": "markdown",
   "id": "a5a46c92",
   "metadata": {},
   "source": [
    "# Pandas Cheat Sheet • Runnable Examples\n",
    "Use this notebook as a quick reference and playground while studying Pandas.\n",
    "Each section includes short examples you can tweak.\n"
   ]
  },
  {
   "cell_type": "code",
   "execution_count": 1,
   "id": "5784d22d",
   "metadata": {},
   "outputs": [],
   "source": [
    "import pandas as pd\n",
    "import numpy as np\n",
    "import matplotlib.pyplot as plt\n",
    "pd.set_option('display.max_rows', 10)\n",
    "np.random.seed(42)"
   ]
  },
  {
   "cell_type": "markdown",
   "id": "a431cfdf",
   "metadata": {},
   "source": [
    "## 1. Series"
   ]
  },
  {
   "cell_type": "code",
   "execution_count": 2,
   "id": "6861be51",
   "metadata": {},
   "outputs": [
    {
     "data": {
      "text/plain": [
       "(a    10\n",
       " b    20\n",
       " c    30\n",
       " dtype: int64,\n",
       " np.int64(10),\n",
       " np.int64(10))"
      ]
     },
     "execution_count": 2,
     "metadata": {},
     "output_type": "execute_result"
    }
   ],
   "source": [
    "# Create Series\n",
    "s = pd.Series([10, 20, 30], index=['a','b','c'])\n",
    "s, s['a'], s.iloc[0]"
   ]
  },
  {
   "cell_type": "code",
   "execution_count": 3,
   "id": "68e7b967",
   "metadata": {},
   "outputs": [
    {
     "data": {
      "text/plain": [
       "(np.float64(20.0), np.float64(10.0))"
      ]
     },
     "execution_count": 3,
     "metadata": {},
     "output_type": "execute_result"
    }
   ],
   "source": [
    "# Stats\n",
    "s.mean(), s.std()"
   ]
  },
  {
   "cell_type": "markdown",
   "id": "7eee16ef",
   "metadata": {},
   "source": [
    "## 2. DataFrame"
   ]
  },
  {
   "cell_type": "code",
   "execution_count": null,
   "id": "c585f909",
   "metadata": {},
   "outputs": [],
   "source": [
    "# Create DataFrame\n",
    "df = pd.DataFrame({\n",
    "    'name': ['Alice','Bob','Charlie','Dana','Eli'],\n",
    "    'age': [25, 30, 35, 28, 41],\n",
    "    'city': ['TLV','HAI','JLM','TLV','HAI']\n",
    "})\n",
    "df.head()"
   ]
  },
  {
   "cell_type": "code",
   "execution_count": null,
   "id": "7e7a24f7",
   "metadata": {},
   "outputs": [],
   "source": [
    "# Quick info\n",
    "df.info()"
   ]
  },
  {
   "cell_type": "code",
   "execution_count": null,
   "id": "67cd4fa9",
   "metadata": {},
   "outputs": [],
   "source": [
    "# Stats (numeric columns)\n",
    "df.describe()"
   ]
  },
  {
   "cell_type": "markdown",
   "id": "39fb9710",
   "metadata": {},
   "source": [
    "## 3. Selection"
   ]
  },
  {
   "cell_type": "code",
   "execution_count": null,
   "id": "8951c357",
   "metadata": {},
   "outputs": [],
   "source": [
    "# One / multiple columns\n",
    "df['age'], df[['name','age']].head()"
   ]
  },
  {
   "cell_type": "code",
   "execution_count": null,
   "id": "a10b7493",
   "metadata": {},
   "outputs": [],
   "source": [
    "# Label-based selection with .loc\n",
    "df.loc[0:2, ['name','city']]"
   ]
  },
  {
   "cell_type": "code",
   "execution_count": null,
   "id": "6d149dfe",
   "metadata": {},
   "outputs": [],
   "source": [
    "# Position-based selection with .iloc\n",
    "df.iloc[1:4, 0:2]"
   ]
  },
  {
   "cell_type": "code",
   "execution_count": null,
   "id": "fb0ffda7",
   "metadata": {},
   "outputs": [],
   "source": [
    "# Boolean filtering: age > 28\n",
    "df[df['age'] > 28]"
   ]
  },
  {
   "cell_type": "markdown",
   "id": "6a0edbac",
   "metadata": {},
   "source": [
    "## 4. Modifying"
   ]
  },
  {
   "cell_type": "code",
   "execution_count": null,
   "id": "a26b83c4",
   "metadata": {},
   "outputs": [],
   "source": [
    "# Add / update / drop columns and rows\n",
    "df2 = df.copy()\n",
    "df2['salary'] = [100, 200, 300, 250, 400]\n",
    "df2['age'] = df2['age'] + 1\n",
    "without_city = df2.drop('city', axis=1)\n",
    "without_first_row = df2.drop(0, axis=0)\n",
    "without_city.head(), without_first_row.head()"
   ]
  },
  {
   "cell_type": "markdown",
   "id": "20d43224",
   "metadata": {},
   "source": [
    "## 5. Grouping & Aggregation"
   ]
  },
  {
   "cell_type": "code",
   "execution_count": null,
   "id": "db5ee353",
   "metadata": {},
   "outputs": [],
   "source": [
    "# Groupby examples\n",
    "df2 = df.copy()\n",
    "df2['salary'] = [100, 200, 300, 250, 400]\n",
    "mean_age_by_city = df2.groupby('city')['age'].mean()\n",
    "agg_stats = df2.groupby('city').agg({'age':['mean','max'], 'salary':'sum'})\n",
    "mean_age_by_city, agg_stats"
   ]
  },
  {
   "cell_type": "markdown",
   "id": "a8b5a6bf",
   "metadata": {},
   "source": [
    "## 6. Missing Values"
   ]
  },
  {
   "cell_type": "code",
   "execution_count": null,
   "id": "2edc48e1",
   "metadata": {},
   "outputs": [],
   "source": [
    "# Introduce some NaNs\n",
    "na_df = df.copy()\n",
    "na_df.loc[1, 'age'] = np.nan\n",
    "na_df.loc[4, 'city'] = np.nan\n",
    "na_df"
   ]
  },
  {
   "cell_type": "code",
   "execution_count": null,
   "id": "e47a5111",
   "metadata": {},
   "outputs": [],
   "source": [
    "# Count missing values\n",
    "na_df.isna().sum()"
   ]
  },
  {
   "cell_type": "code",
   "execution_count": null,
   "id": "b7dd4071",
   "metadata": {},
   "outputs": [],
   "source": [
    "# Fill and drop\n",
    "filled = na_df.copy()\n",
    "filled['age'] = filled['age'].fillna(filled['age'].mean())\n",
    "dropped = na_df.dropna()\n",
    "filled.head(), dropped.head()"
   ]
  },
  {
   "cell_type": "markdown",
   "id": "da7da5c9",
   "metadata": {},
   "source": [
    "## 7. Sorting"
   ]
  },
  {
   "cell_type": "code",
   "execution_count": null,
   "id": "70c02543",
   "metadata": {},
   "outputs": [],
   "source": [
    "# Sort by age descending and by index\n",
    "sorted_age = df.sort_values('age', ascending=False)\n",
    "sorted_index = df.sort_index()\n",
    "sorted_age.head(), sorted_index.head()"
   ]
  },
  {
   "cell_type": "markdown",
   "id": "2d783eee",
   "metadata": {},
   "source": [
    "## 8. Merge / Join"
   ]
  },
  {
   "cell_type": "code",
   "execution_count": null,
   "id": "6f375fa0",
   "metadata": {},
   "outputs": [],
   "source": [
    "# Merge two DataFrames on 'id'\n",
    "left  = pd.DataFrame({'id':[1,2,3], 'group':['A','B','A']})\n",
    "right = pd.DataFrame({'id':[2,3,4], 'score':[90,75,60]})\n",
    "inner = pd.merge(left, right, on='id', how='inner')\n",
    "left_join = pd.merge(left, right, on='id', how='left')\n",
    "inner, left_join"
   ]
  },
  {
   "cell_type": "markdown",
   "id": "6813c40d",
   "metadata": {},
   "source": [
    "## 9. I/O (CSV)"
   ]
  },
  {
   "cell_type": "code",
   "execution_count": null,
   "id": "f48be4b2",
   "metadata": {},
   "outputs": [],
   "source": [
    "# Write to CSV and read back (in-memory path)\n",
    "path = 'sample_output.csv'\n",
    "df.to_csv(path, index=False)\n",
    "read_back = pd.read_csv(path)\n",
    "read_back.head()"
   ]
  },
  {
   "cell_type": "markdown",
   "id": "aa1c65f8",
   "metadata": {},
   "source": [
    "## 10. Visualization (quick)"
   ]
  },
  {
   "cell_type": "code",
   "execution_count": null,
   "id": "638ae2fa",
   "metadata": {},
   "outputs": [],
   "source": [
    "# Simple histogram and line plot\n",
    "values = np.random.normal(50, 10, 1000)\n",
    "plt.figure()\n",
    "plt.hist(values, bins=30)\n",
    "plt.title('Histogram of values')\n",
    "plt.xlabel('value')\n",
    "plt.ylabel('count')\n",
    "plt.show()\n",
    "\n",
    "x = np.linspace(0, 10, 100)\n",
    "y = 2*x + 1\n",
    "plt.figure()\n",
    "plt.plot(x, y)\n",
    "plt.title('y = 2x + 1')\n",
    "plt.xlabel('x')\n",
    "plt.ylabel('y')\n",
    "plt.show()"
   ]
  },
  {
   "cell_type": "markdown",
   "id": "88847de3",
   "metadata": {},
   "source": [
    "> Tip: Duplicate any cell and tweak it as practice. Try adding new columns, different filters, or other aggregations."
   ]
  }
 ],
 "metadata": {
  "kernelspec": {
   "display_name": ".venv",
   "language": "python",
   "name": "python3"
  },
  "language_info": {
   "codemirror_mode": {
    "name": "ipython",
    "version": 3
   },
   "file_extension": ".py",
   "mimetype": "text/x-python",
   "name": "python",
   "nbconvert_exporter": "python",
   "pygments_lexer": "ipython3",
   "version": "3.12.11"
  }
 },
 "nbformat": 4,
 "nbformat_minor": 5
}
